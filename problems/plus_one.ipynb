{
 "cells": [
  {
   "cell_type": "markdown",
   "id": "3bc1ae1d-fa65-410f-aada-434ef0d2e300",
   "metadata": {},
   "source": [
    "### Plus one "
   ]
  },
  {
   "cell_type": "code",
   "execution_count": 17,
   "id": "7182554b-0cf2-4021-bb81-847b9b7c0f9f",
   "metadata": {},
   "outputs": [],
   "source": [
    "def plusone(digits: [int]) -> [int]:\n",
    "    k = len(digits) -1 \n",
    "    while digits[k] == 9:\n",
    "        digits[k] = 0\n",
    "        k -= 1\n",
    "    if k <0:\n",
    "        digits = [1] + digits\n",
    "    else:\n",
    "        digits[k] += 1\n",
    "    return digits"
   ]
  },
  {
   "cell_type": "code",
   "execution_count": 18,
   "id": "8691b056-eda0-4d75-ba80-37aee4bd3bca",
   "metadata": {},
   "outputs": [],
   "source": [
    "ll = [1,2,3]"
   ]
  },
  {
   "cell_type": "code",
   "execution_count": 19,
   "id": "13ca865b-d624-42f4-b514-10b4d4d8e05b",
   "metadata": {},
   "outputs": [
    {
     "data": {
      "text/plain": [
       "[1, 2, 4]"
      ]
     },
     "execution_count": 19,
     "metadata": {},
     "output_type": "execute_result"
    }
   ],
   "source": [
    "plusone(ll)"
   ]
  },
  {
   "cell_type": "code",
   "execution_count": 20,
   "id": "54a9aeb1-407d-4d41-a649-77310a9aaae0",
   "metadata": {},
   "outputs": [],
   "source": [
    "l2 = [1,2,9]"
   ]
  },
  {
   "cell_type": "code",
   "execution_count": 21,
   "id": "7898af55-35d0-4b79-bbe6-7be60e056c4e",
   "metadata": {},
   "outputs": [
    {
     "data": {
      "text/plain": [
       "[1, 3, 0]"
      ]
     },
     "execution_count": 21,
     "metadata": {},
     "output_type": "execute_result"
    }
   ],
   "source": [
    "plusone(l2)"
   ]
  },
  {
   "cell_type": "code",
   "execution_count": 22,
   "id": "79358254-c84b-4748-8001-5013874b0a40",
   "metadata": {},
   "outputs": [],
   "source": [
    "l3 = [9]"
   ]
  },
  {
   "cell_type": "code",
   "execution_count": 23,
   "id": "4c81ac19-5203-4f76-9a9c-a639b13039d0",
   "metadata": {},
   "outputs": [
    {
     "data": {
      "text/plain": [
       "[1, 0]"
      ]
     },
     "execution_count": 23,
     "metadata": {},
     "output_type": "execute_result"
    }
   ],
   "source": [
    "plusone(l3)"
   ]
  },
  {
   "cell_type": "code",
   "execution_count": null,
   "id": "7ec36f7c-bb9d-456a-8b02-51fd9161931d",
   "metadata": {},
   "outputs": [],
   "source": []
  },
  {
   "cell_type": "code",
   "execution_count": null,
   "id": "c3aa3e71-6d09-45c3-bab2-6797646ae5c4",
   "metadata": {},
   "outputs": [],
   "source": []
  }
 ],
 "metadata": {
  "kernelspec": {
   "display_name": "Python 3 (ipykernel)",
   "language": "python",
   "name": "python3"
  },
  "language_info": {
   "codemirror_mode": {
    "name": "ipython",
    "version": 3
   },
   "file_extension": ".py",
   "mimetype": "text/x-python",
   "name": "python",
   "nbconvert_exporter": "python",
   "pygments_lexer": "ipython3",
   "version": "3.8.10"
  }
 },
 "nbformat": 4,
 "nbformat_minor": 5
}

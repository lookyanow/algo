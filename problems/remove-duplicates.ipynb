{
 "cells": [
  {
   "cell_type": "markdown",
   "id": "ab1c16e8-34c2-4944-bf57-3f72809428f2",
   "metadata": {},
   "source": [
    "## Remove duplicates from array"
   ]
  },
  {
   "cell_type": "code",
   "execution_count": 22,
   "id": "8a39b95b-bd6e-4843-a50f-29caff5b48ce",
   "metadata": {},
   "outputs": [],
   "source": [
    "def removeDuplicates(nums: [int]) -> int:\n",
    "    l = 1\n",
    "    for r in range(1, len(nums)):\n",
    "        if nums[r] != nums[r - 1]:\n",
    "            nums[l] = nums[r]\n",
    "            l += 1\n",
    "    print(nums)\n",
    "    return l\n",
    "    \n",
    "        "
   ]
  },
  {
   "cell_type": "code",
   "execution_count": 23,
   "id": "1f38fb0b-3b03-487f-b210-d4a130e61f75",
   "metadata": {},
   "outputs": [],
   "source": [
    "n = [1,1,2,2,2,3,4,5,5,5,5]\n"
   ]
  },
  {
   "cell_type": "code",
   "execution_count": 24,
   "id": "73a5b682-769c-4147-b7f8-e02bf7a141f6",
   "metadata": {},
   "outputs": [
    {
     "name": "stdout",
     "output_type": "stream",
     "text": [
      "[1, 2, 3, 4, 5, 3, 4, 5, 5, 5, 5]\n"
     ]
    },
    {
     "data": {
      "text/plain": [
       "5"
      ]
     },
     "execution_count": 24,
     "metadata": {},
     "output_type": "execute_result"
    }
   ],
   "source": [
    "removeDuplicates(n)"
   ]
  },
  {
   "cell_type": "code",
   "execution_count": null,
   "id": "f7ff6ad2-63a7-40ce-99d3-0c3663aaf5bf",
   "metadata": {},
   "outputs": [],
   "source": []
  },
  {
   "cell_type": "code",
   "execution_count": null,
   "id": "bea47457-f076-4771-ad6c-b25d84a53e3f",
   "metadata": {},
   "outputs": [],
   "source": []
  }
 ],
 "metadata": {
  "kernelspec": {
   "display_name": "Python 3 (ipykernel)",
   "language": "python",
   "name": "python3"
  },
  "language_info": {
   "codemirror_mode": {
    "name": "ipython",
    "version": 3
   },
   "file_extension": ".py",
   "mimetype": "text/x-python",
   "name": "python",
   "nbconvert_exporter": "python",
   "pygments_lexer": "ipython3",
   "version": "3.10.9"
  }
 },
 "nbformat": 4,
 "nbformat_minor": 5
}

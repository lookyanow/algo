{
 "cells": [
  {
   "cell_type": "markdown",
   "id": "08737ef8-19b5-412a-baf9-035fb9e9725e",
   "metadata": {},
   "source": [
    "## Two Sum"
   ]
  },
  {
   "cell_type": "code",
   "execution_count": 19,
   "id": "14f9a825-300a-4b84-8af2-240b25270601",
   "metadata": {},
   "outputs": [],
   "source": [
    "def two_sum(nums: [int], target: int):\n",
    "    for k,v in enumerate(nums):\n",
    "        for i in range(k+1, len(nums)):\n",
    "            if nums[k] + nums[i] == target:\n",
    "                return [k,i]\n",
    "            \n",
    "            "
   ]
  },
  {
   "cell_type": "code",
   "execution_count": 20,
   "id": "70e65008-8f11-42a4-b623-a4a2765418e1",
   "metadata": {},
   "outputs": [],
   "source": [
    "nums = [2,7,11,15]\n",
    "target = 9\n",
    "nums1 = [2,5,5,11]\n",
    "target1 = 10\n",
    "\n",
    "nums2 = [3,3]\n",
    "target2 = 6\n",
    "\n",
    "nums3 = [3,2,3]\n",
    "target3 = 6"
   ]
  },
  {
   "cell_type": "code",
   "execution_count": 21,
   "id": "60742d9b-b9b9-4c48-85b7-915f6ed4af18",
   "metadata": {},
   "outputs": [
    {
     "data": {
      "text/plain": [
       "[0, 1]"
      ]
     },
     "execution_count": 21,
     "metadata": {},
     "output_type": "execute_result"
    }
   ],
   "source": [
    "two_sum(nums, target)"
   ]
  },
  {
   "cell_type": "code",
   "execution_count": 22,
   "id": "20127d8e-4b1b-471b-af95-0d64054dd8ed",
   "metadata": {},
   "outputs": [
    {
     "data": {
      "text/plain": [
       "[1, 2]"
      ]
     },
     "execution_count": 22,
     "metadata": {},
     "output_type": "execute_result"
    }
   ],
   "source": [
    "two_sum(nums1, target1)"
   ]
  },
  {
   "cell_type": "code",
   "execution_count": 23,
   "id": "2137c6fb-1060-4ee9-9f91-5995ed633871",
   "metadata": {},
   "outputs": [
    {
     "data": {
      "text/plain": [
       "[0, 1]"
      ]
     },
     "execution_count": 23,
     "metadata": {},
     "output_type": "execute_result"
    }
   ],
   "source": [
    "two_sum(nums2, target2)"
   ]
  },
  {
   "cell_type": "code",
   "execution_count": 24,
   "id": "8f43fb0e-c41a-4f99-a058-fc582b9f86bd",
   "metadata": {},
   "outputs": [
    {
     "data": {
      "text/plain": [
       "[0, 2]"
      ]
     },
     "execution_count": 24,
     "metadata": {},
     "output_type": "execute_result"
    }
   ],
   "source": [
    "two_sum(nums3, target3)"
   ]
  },
  {
   "cell_type": "code",
   "execution_count": null,
   "id": "7db97c8d-214c-4268-876b-224ef65656c3",
   "metadata": {},
   "outputs": [],
   "source": []
  }
 ],
 "metadata": {
  "kernelspec": {
   "display_name": "Python 3 (ipykernel)",
   "language": "python",
   "name": "python3"
  },
  "language_info": {
   "codemirror_mode": {
    "name": "ipython",
    "version": 3
   },
   "file_extension": ".py",
   "mimetype": "text/x-python",
   "name": "python",
   "nbconvert_exporter": "python",
   "pygments_lexer": "ipython3",
   "version": "3.10.9"
  }
 },
 "nbformat": 4,
 "nbformat_minor": 5
}

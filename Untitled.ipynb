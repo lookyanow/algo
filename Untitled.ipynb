{
 "cells": [
  {
   "cell_type": "markdown",
   "id": "0c4947f3-b0cd-4869-ae49-8d61a0186918",
   "metadata": {},
   "source": [
    "# First and last example"
   ]
  },
  {
   "cell_type": "code",
   "execution_count": 1,
   "id": "0c71c7ef-b2b5-4914-be6a-76cde7fb322c",
   "metadata": {},
   "outputs": [],
   "source": [
    "def first_and_last(arr, target):\n",
    "    for i in range(len(arr)):\n",
    "        if arr[i] == target:\n",
    "            start = i \n",
    "            while i+1 < len(arr) and arr[i+1] == target:\n",
    "                i += 1\n",
    "            return [start, i]\n",
    "    return [-1, -1]"
   ]
  },
  {
   "cell_type": "code",
   "execution_count": 2,
   "id": "6932dadc-686d-4340-aa88-015b4b854b1e",
   "metadata": {},
   "outputs": [
    {
     "data": {
      "text/plain": [
       "[3, 5]"
      ]
     },
     "execution_count": 2,
     "metadata": {},
     "output_type": "execute_result"
    }
   ],
   "source": [
    "first_and_last([1, 2, 4 , 5, 5, 5, 6, 8], 5)"
   ]
  },
  {
   "cell_type": "code",
   "execution_count": null,
   "id": "f513593f-c01f-4686-9146-a6a67509fbe3",
   "metadata": {},
   "outputs": [],
   "source": []
  }
 ],
 "metadata": {
  "kernelspec": {
   "display_name": "Python 3 (ipykernel)",
   "language": "python",
   "name": "python3"
  },
  "language_info": {
   "codemirror_mode": {
    "name": "ipython",
    "version": 3
   },
   "file_extension": ".py",
   "mimetype": "text/x-python",
   "name": "python",
   "nbconvert_exporter": "python",
   "pygments_lexer": "ipython3",
   "version": "3.8.10"
  }
 },
 "nbformat": 4,
 "nbformat_minor": 5
}

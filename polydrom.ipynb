{
 "cells": [
  {
   "cell_type": "markdown",
   "id": "a132ec02-55e5-4966-b0f7-6a65a3542138",
   "metadata": {},
   "source": [
    "## Polydrom example"
   ]
  },
  {
   "cell_type": "code",
   "execution_count": 20,
   "id": "3a8a161b-715b-4f02-a393-f583a310328e",
   "metadata": {},
   "outputs": [],
   "source": [
    "def IsPaladrom(s):\n",
    "    s = s.replace(\" \", \"\")\n",
    "    s = s.lower()\n",
    "    i = 0\n",
    "    j = len(s) - 1\n",
    "    while i < j:\n",
    "        if s[i] != s[j]:\n",
    "            return False\n",
    "        i +=1\n",
    "        j -=1\n",
    "    return True"
   ]
  },
  {
   "cell_type": "code",
   "execution_count": 25,
   "id": "94fe7109-0c90-4c88-9af6-f36e937fcdb1",
   "metadata": {},
   "outputs": [],
   "source": [
    "#s = 'Do geese see God'\n",
    "s = 'казак'"
   ]
  },
  {
   "cell_type": "code",
   "execution_count": 26,
   "id": "e4dc6271-2d65-4574-891a-984045f2be7f",
   "metadata": {},
   "outputs": [
    {
     "data": {
      "text/plain": [
       "True"
      ]
     },
     "execution_count": 26,
     "metadata": {},
     "output_type": "execute_result"
    }
   ],
   "source": [
    "IsPaladrom(s)"
   ]
  }
 ],
 "metadata": {
  "kernelspec": {
   "display_name": "Python 3 (ipykernel)",
   "language": "python",
   "name": "python3"
  },
  "language_info": {
   "codemirror_mode": {
    "name": "ipython",
    "version": 3
   },
   "file_extension": ".py",
   "mimetype": "text/x-python",
   "name": "python",
   "nbconvert_exporter": "python",
   "pygments_lexer": "ipython3",
   "version": "3.10.8"
  }
 },
 "nbformat": 4,
 "nbformat_minor": 5
}

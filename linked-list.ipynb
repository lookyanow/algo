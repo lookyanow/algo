{
 "cells": [
  {
   "cell_type": "markdown",
   "id": "eabe80bb-0efb-4c86-9f37-b62458039856",
   "metadata": {},
   "source": [
    "## Linked list example"
   ]
  },
  {
   "cell_type": "code",
   "execution_count": 18,
   "id": "b34fdfd0-4817-4393-a032-e96e1ead301c",
   "metadata": {},
   "outputs": [],
   "source": [
    "class Node:\n",
    "    \"\"\"\n",
    "    A single node for linked list\n",
    "    \"\"\"\n",
    "    \n",
    "    data = None\n",
    "    next_node = None\n",
    "    \n",
    "    def __init__(self, data):\n",
    "        self.data = data\n",
    "    def __repr__(self):\n",
    "        return \"<Node data: %s>\" % self.data"
   ]
  },
  {
   "cell_type": "code",
   "execution_count": 19,
   "id": "ba387b12-bbe5-408e-b7bb-afcfe003f1f5",
   "metadata": {},
   "outputs": [],
   "source": [
    "class LinkedList:\n",
    "    \"\"\"\n",
    "    Single linked list\n",
    "    \"\"\"\n",
    "    \n",
    "    def __init__(self):\n",
    "        self.head = None\n",
    "        \n",
    "    def is_empty(self):\n",
    "        return self.head == None\n",
    "    \n",
    "    def size(self):\n",
    "        current = self.head\n",
    "        count = 0\n",
    "        while current:\n",
    "            count += 1\n",
    "            current = current.next_node\n",
    "        return count\n",
    "    \n",
    "    def add(self, data):\n",
    "        \"\"\"\n",
    "        Adds new node to the head of List\n",
    "        \"\"\"\n",
    "        \n",
    "        new_node = Node(data)\n",
    "        new_node.next_node = self.head\n",
    "        self.head = new_node\n",
    "        \n",
    "    def search(self, key):\n",
    "        current = self.head \n",
    "        \n",
    "        while current:\n",
    "            if current.data == key:\n",
    "                return current\n",
    "            else:\n",
    "                current = current.next_node\n",
    "        return None\n",
    "    \n",
    "    def insert(self, data, index):\n",
    "        \"\"\"\n",
    "        Overall O(n) time\n",
    "        \"\"\"\n",
    "        if index == 0:\n",
    "            self.add(data)\n",
    "        \n",
    "        if index > 0: \n",
    "            new = Node(data)\n",
    "            position = index\n",
    "            current = self.head\n",
    "            \n",
    "            while position > 1:\n",
    "                current = node.next_node\n",
    "                position -= 1\n",
    "            \n",
    "            prev_node = current\n",
    "            next_node = current.next_node\n",
    "            \n",
    "            prev_node.next_node = new\n",
    "            new.next_node = next_node\n",
    "            \n",
    "    def remove(self, key):\n",
    "        \"\"\"\n",
    "        Time O(n)\n",
    "        \"\"\"\n",
    "        current = self.head\n",
    "        previous = None\n",
    "        found = False\n",
    "        \n",
    "        while current and not found:\n",
    "            if current.data == key and current is self.head:\n",
    "                found = True\n",
    "                self.head = current.next_node\n",
    "            elif current.data == key:\n",
    "                found = True\n",
    "                previous.next_node = current.next_node\n",
    "            else: \n",
    "                previous = current\n",
    "                current = current.next_node\n",
    "        \n",
    "        return current\n",
    "        \n",
    "    def __repr__(self):\n",
    "        \"\"\"\n",
    "        Returns a string representation of the linked list\n",
    "        \"\"\"\n",
    "        \n",
    "        nodes = []\n",
    "        current = self.head\n",
    "        \n",
    "        while current:\n",
    "            if current is self.head:\n",
    "                nodes.append(\"[Head: %s]\" % current.data)\n",
    "            elif current.next_node is None:\n",
    "                nodes.append(\"[Tail: %s]\" % current.data)\n",
    "            else:\n",
    "                nodes.append(\"[%s]\" % current.data)\n",
    "            current = current.next_node\n",
    "            \n",
    "        return '->'.join(nodes)\n"
   ]
  },
  {
   "cell_type": "code",
   "execution_count": 20,
   "id": "ef7c8318-7e32-4383-8a29-099f255737cc",
   "metadata": {},
   "outputs": [],
   "source": [
    "l = LinkedList()"
   ]
  },
  {
   "cell_type": "code",
   "execution_count": 21,
   "id": "f78c3c42-f8af-477e-92d4-6173a7a919be",
   "metadata": {},
   "outputs": [],
   "source": [
    "l.add(10)\n",
    "l.add(20)\n",
    "l.add(33)\n",
    "l.add(45)"
   ]
  },
  {
   "cell_type": "code",
   "execution_count": 22,
   "id": "b0eb0236-2156-4f04-8d2f-3d3673edd627",
   "metadata": {},
   "outputs": [
    {
     "data": {
      "text/plain": [
       "4"
      ]
     },
     "execution_count": 22,
     "metadata": {},
     "output_type": "execute_result"
    }
   ],
   "source": [
    "l.size()"
   ]
  },
  {
   "cell_type": "code",
   "execution_count": 23,
   "id": "3cbb9492-2755-4d3c-8420-7ed04d635868",
   "metadata": {},
   "outputs": [
    {
     "data": {
      "text/plain": [
       "[Head: 45]->[33]->[20]->[Tail: 10]"
      ]
     },
     "execution_count": 23,
     "metadata": {},
     "output_type": "execute_result"
    }
   ],
   "source": [
    "l"
   ]
  },
  {
   "cell_type": "code",
   "execution_count": 24,
   "id": "2b87dd2d-a977-46f8-afc8-cf922dd4fd71",
   "metadata": {},
   "outputs": [
    {
     "data": {
      "text/plain": [
       "4"
      ]
     },
     "execution_count": 24,
     "metadata": {},
     "output_type": "execute_result"
    }
   ],
   "source": [
    "l.size()"
   ]
  },
  {
   "cell_type": "code",
   "execution_count": 25,
   "id": "910097b0-0acf-4491-97bd-ddc24e5b51a6",
   "metadata": {},
   "outputs": [
    {
     "data": {
      "text/plain": [
       "<Node data: 33>"
      ]
     },
     "execution_count": 25,
     "metadata": {},
     "output_type": "execute_result"
    }
   ],
   "source": [
    "l.search(33)"
   ]
  },
  {
   "cell_type": "code",
   "execution_count": 26,
   "id": "83e85d77-d4dd-41d6-88cc-4b99921b1038",
   "metadata": {},
   "outputs": [],
   "source": [
    "l.search(22)"
   ]
  },
  {
   "cell_type": "code",
   "execution_count": 27,
   "id": "d40896e5-7cda-4582-ad46-b86a479ed420",
   "metadata": {},
   "outputs": [],
   "source": [
    "l.add(22)\n"
   ]
  },
  {
   "cell_type": "code",
   "execution_count": 28,
   "id": "6ea81cd4-1967-43ed-929b-3b67121288da",
   "metadata": {},
   "outputs": [
    {
     "data": {
      "text/plain": [
       "[Head: 22]->[45]->[33]->[20]->[Tail: 10]"
      ]
     },
     "execution_count": 28,
     "metadata": {},
     "output_type": "execute_result"
    }
   ],
   "source": [
    "l"
   ]
  },
  {
   "cell_type": "code",
   "execution_count": 29,
   "id": "b38df020-784e-494e-98a5-d062a06ec773",
   "metadata": {},
   "outputs": [],
   "source": [
    "l.add(2)"
   ]
  },
  {
   "cell_type": "code",
   "execution_count": 30,
   "id": "11f0fed3-8aa6-4b1c-b251-c4d53f953229",
   "metadata": {},
   "outputs": [
    {
     "data": {
      "text/plain": [
       "[Head: 2]->[22]->[45]->[33]->[20]->[Tail: 10]"
      ]
     },
     "execution_count": 30,
     "metadata": {},
     "output_type": "execute_result"
    }
   ],
   "source": [
    "l"
   ]
  },
  {
   "cell_type": "code",
   "execution_count": 31,
   "id": "53d68a5a-19fa-41e6-a8ef-1c1b636fac0e",
   "metadata": {},
   "outputs": [
    {
     "data": {
      "text/plain": [
       "<Node data: 22>"
      ]
     },
     "execution_count": 31,
     "metadata": {},
     "output_type": "execute_result"
    }
   ],
   "source": [
    "l.search(22)"
   ]
  },
  {
   "cell_type": "code",
   "execution_count": 32,
   "id": "7bf9a81a-d61d-42b4-b0e3-42e08b3d0eb7",
   "metadata": {},
   "outputs": [
    {
     "data": {
      "text/plain": [
       "<Node data: 33>"
      ]
     },
     "execution_count": 32,
     "metadata": {},
     "output_type": "execute_result"
    }
   ],
   "source": [
    "l.remove(33)"
   ]
  },
  {
   "cell_type": "code",
   "execution_count": 33,
   "id": "2383bfc9-e996-4380-821d-d8f0f54f231b",
   "metadata": {},
   "outputs": [
    {
     "data": {
      "text/plain": [
       "[Head: 2]->[22]->[45]->[20]->[Tail: 10]"
      ]
     },
     "execution_count": 33,
     "metadata": {},
     "output_type": "execute_result"
    }
   ],
   "source": [
    "l"
   ]
  },
  {
   "cell_type": "code",
   "execution_count": null,
   "id": "b4974f2d-eb34-41ef-b853-a90220c69b70",
   "metadata": {},
   "outputs": [],
   "source": []
  }
 ],
 "metadata": {
  "kernelspec": {
   "display_name": "Python 3 (ipykernel)",
   "language": "python",
   "name": "python3"
  },
  "language_info": {
   "codemirror_mode": {
    "name": "ipython",
    "version": 3
   },
   "file_extension": ".py",
   "mimetype": "text/x-python",
   "name": "python",
   "nbconvert_exporter": "python",
   "pygments_lexer": "ipython3",
   "version": "3.10.9"
  }
 },
 "nbformat": 4,
 "nbformat_minor": 5
}

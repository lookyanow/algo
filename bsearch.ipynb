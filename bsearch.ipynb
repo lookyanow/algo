{
 "cells": [
  {
   "cell_type": "markdown",
   "metadata": {},
   "source": [
    "## Binary search example"
   ]
  },
  {
   "cell_type": "code",
   "execution_count": 128,
   "metadata": {},
   "outputs": [],
   "source": [
    "import timeit"
   ]
  },
  {
   "cell_type": "code",
   "execution_count": 129,
   "metadata": {},
   "outputs": [],
   "source": [
    "def dumb_search(slist, item):\n",
    "    count = 0\n",
    "    for k,v in enumerate(slist):\n",
    "        count += 1\n",
    "        if slist[k] == item:\n",
    "            return k, count\n",
    "    return None, count"
   ]
  },
  {
   "cell_type": "code",
   "execution_count": 130,
   "metadata": {},
   "outputs": [],
   "source": [
    "def binary_search(slist, item):\n",
    "    count = 0\n",
    "    low = 0\n",
    "    high = len(slist) - 1\n",
    "    \n",
    "    while low <= high:\n",
    "        count += 1\n",
    "        mid = int((low + high) / 2) \n",
    "        guess = slist[mid]\n",
    "        if guess == item:\n",
    "            return mid, count\n",
    "        if guess > item:\n",
    "            high = mid - 1\n",
    "        else:\n",
    "            low = mid + 1\n",
    "    return None, count"
   ]
  },
  {
   "cell_type": "code",
   "execution_count": 131,
   "metadata": {},
   "outputs": [],
   "source": [
    "my_list = list(range(1,100000))"
   ]
  },
  {
   "cell_type": "code",
   "execution_count": 132,
   "metadata": {},
   "outputs": [
    {
     "name": "stdout",
     "output_type": "stream",
     "text": [
      "12356\n"
     ]
    }
   ],
   "source": [
    "i = int(input())"
   ]
  },
  {
   "cell_type": "code",
   "execution_count": 133,
   "metadata": {},
   "outputs": [
    {
     "name": "stdout",
     "output_type": "stream",
     "text": [
      "Index: 12355 Iterations: 15 Time: 0.00011069199990743073\n"
     ]
    }
   ],
   "source": [
    "start = timeit.default_timer()\n",
    "index, count = binary_search(my_list, i) \n",
    "stop = timeit.default_timer()\n",
    "print('Index:', index, 'Iterations:', count, 'Time:', stop - start)\n"
   ]
  },
  {
   "cell_type": "code",
   "execution_count": 134,
   "metadata": {},
   "outputs": [
    {
     "name": "stdout",
     "output_type": "stream",
     "text": [
      "Index: 12355 Iterations: 12356 Time: 0.002159596000183228\n"
     ]
    }
   ],
   "source": [
    "start = timeit.default_timer()\n",
    "index, count = dumb_search(my_list, i) \n",
    "stop = timeit.default_timer()\n",
    "print('Index:', index, 'Iterations:', count, 'Time:', stop - start)"
   ]
  },
  {
   "cell_type": "code",
   "execution_count": null,
   "metadata": {},
   "outputs": [],
   "source": []
  }
 ],
 "metadata": {
  "kernelspec": {
   "display_name": "Python 3 (ipykernel)",
   "language": "python",
   "name": "python3"
  },
  "language_info": {
   "codemirror_mode": {
    "name": "ipython",
    "version": 3
   },
   "file_extension": ".py",
   "mimetype": "text/x-python",
   "name": "python",
   "nbconvert_exporter": "python",
   "pygments_lexer": "ipython3",
   "version": "3.10.9"
  }
 },
 "nbformat": 4,
 "nbformat_minor": 4
}

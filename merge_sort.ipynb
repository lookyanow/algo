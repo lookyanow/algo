{
 "cells": [
  {
   "cell_type": "markdown",
   "id": "a3831d7e-0531-40a2-b200-7f6a5cf2a749",
   "metadata": {},
   "source": [
    "## Merge sort example"
   ]
  },
  {
   "cell_type": "code",
   "execution_count": null,
   "id": "b591d2c8-5350-4365-85d6-46ec1cc16bb4",
   "metadata": {},
   "outputs": [],
   "source": [
    "def split(list):\n",
    "    mid  = len(list) // 2\n",
    "    left = list[:mid]\n",
    "    right = list[mid:]\n",
    "    return left, right"
   ]
  },
  {
   "cell_type": "code",
   "execution_count": 1,
   "id": "1dc159c0-8115-420d-9328-859e03eb00f7",
   "metadata": {},
   "outputs": [],
   "source": [
    "def merge(left, right):\n",
    "    \n",
    "    l = []\n",
    "    i = 0\n",
    "    j = 0 \n",
    "    \n",
    "    while i < len(left) and j < len(right):\n",
    "        if left[i] < right[j]:\n",
    "            l.append(left[i])\n",
    "            i += 1\n",
    "        else:\n",
    "            l.append(right[j])\n",
    "            j += 1\n",
    "            \n",
    "    # todo add all conditions"
   ]
  },
  {
   "cell_type": "code",
   "execution_count": 2,
   "id": "860ee834-7d4a-4cb0-958d-9153de869078",
   "metadata": {},
   "outputs": [],
   "source": [
    "def merge_sort(list):\n",
    "    \"\"\"\n",
    "    Returns a new sorted list\n",
    "    \"\"\"\n",
    "    if len(list) <= 1:\n",
    "        return list\n",
    "    left_half, right_half = split(list)\n",
    "    left = merge_sort(left_half)\n",
    "    right = merge_sort(right_half)\n",
    "    \n",
    "    return merge(left, right)"
   ]
  }
 ],
 "metadata": {
  "kernelspec": {
   "display_name": "Python 3 (ipykernel)",
   "language": "python",
   "name": "python3"
  },
  "language_info": {
   "codemirror_mode": {
    "name": "ipython",
    "version": 3
   },
   "file_extension": ".py",
   "mimetype": "text/x-python",
   "name": "python",
   "nbconvert_exporter": "python",
   "pygments_lexer": "ipython3",
   "version": "3.10.8"
  }
 },
 "nbformat": 4,
 "nbformat_minor": 5
}

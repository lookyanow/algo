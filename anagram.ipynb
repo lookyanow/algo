{
 "cells": [
  {
   "cell_type": "markdown",
   "id": "8a0e6697-b2d1-4fd7-96f2-fbbc6c0442df",
   "metadata": {},
   "source": [
    "## Anagrams example"
   ]
  },
  {
   "cell_type": "code",
   "execution_count": 1,
   "id": "1f0911f1-cc32-4525-96c2-730c532d210a",
   "metadata": {},
   "outputs": [],
   "source": [
    "def anagrams_check(s1, s2):\n",
    "    if len(s1) != len(s2):\n",
    "        return False\n",
    "    freq1 = {}\n",
    "    freq2 = {}\n",
    "    for ch in s1:\n",
    "        if ch in freq1:\n",
    "            freq1[ch] += 1\n",
    "        else:\n",
    "            freq1[ch] = 1\n",
    "    for ch in s2:\n",
    "        if ch in freq2:\n",
    "            freq2[ch] += 1\n",
    "        else:\n",
    "            freq2[ch] = 1\n",
    "    for key in freq1:\n",
    "        if key not in freq2 or freq1[key] != freq2[key]:\n",
    "            return False\n",
    "    return True\n",
    "    "
   ]
  },
  {
   "cell_type": "code",
   "execution_count": 5,
   "id": "e239aab8-2f03-449a-b7e2-ec05bb5dadaf",
   "metadata": {},
   "outputs": [
    {
     "data": {
      "text/plain": [
       "True"
      ]
     },
     "execution_count": 5,
     "metadata": {},
     "output_type": "execute_result"
    }
   ],
   "source": [
    "anagrams_check(\"danger\", \"garden\")"
   ]
  },
  {
   "cell_type": "code",
   "execution_count": null,
   "id": "ba562d37-e15d-4fa2-b17e-ab06a213eb2e",
   "metadata": {},
   "outputs": [],
   "source": []
  }
 ],
 "metadata": {
  "kernelspec": {
   "display_name": "Python 3 (ipykernel)",
   "language": "python",
   "name": "python3"
  },
  "language_info": {
   "codemirror_mode": {
    "name": "ipython",
    "version": 3
   },
   "file_extension": ".py",
   "mimetype": "text/x-python",
   "name": "python",
   "nbconvert_exporter": "python",
   "pygments_lexer": "ipython3",
   "version": "3.8.10"
  }
 },
 "nbformat": 4,
 "nbformat_minor": 5
}

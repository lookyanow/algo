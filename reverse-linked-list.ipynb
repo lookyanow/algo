{
 "cells": [
  {
   "cell_type": "code",
   "execution_count": 26,
   "id": "17b6dcce-0b59-4d7d-9e1f-15dc78c60d71",
   "metadata": {},
   "outputs": [],
   "source": [
    "class node:\n",
    "    def __init__(self,data=None):\n",
    "        self.data=data\n",
    "        self.next=None\n",
    "    def __repr__(self):\n",
    "        return \"<Node data: %s>\" % self.data"
   ]
  },
  {
   "cell_type": "code",
   "execution_count": 27,
   "id": "a2d2eaa5-d12e-440d-9387-95f5afeeeb71",
   "metadata": {},
   "outputs": [],
   "source": [
    "class LinkedList:\n",
    "    def __init__(self):\n",
    "        self.head = node()\n",
    "        \n",
    "    def append(self, data):\n",
    "        new_node = node(data)\n",
    "        curr = self.head\n",
    "        while curr.next != None:\n",
    "            curr = curr.next\n",
    "        curr.next = new_node\n",
    "        \n",
    "    def summ(self):\n",
    "        total = 0\n",
    "        curr = self.head\n",
    "        while curr.next != None:\n",
    "            total += int(curr.data or 0)\n",
    "            curr = curr.next\n",
    "        return total\n",
    "        \n",
    "    def length(self):\n",
    "        curr = self.head\n",
    "        count = 0 \n",
    "        while curr.next != None:\n",
    "            curr = curr.next\n",
    "            count +=1\n",
    "        return count\n",
    "    \n",
    "    def get(self, index):\n",
    "        if index >= self.length():\n",
    "            return None\n",
    "        cur_idx = 0 \n",
    "        cur_node = self.head\n",
    "        while True:\n",
    "            cur_node = cur_node.next\n",
    "            if cur_idx == index:\n",
    "                return cur_node.data\n",
    "            cur_idx+=1\n",
    "    def reverse_list(self):\n",
    "        current = self.head\n",
    "        prev = None\n",
    "        while current != None:\n",
    "            nxt = current.next\n",
    "            current.next = prev\n",
    "            prev = current\n",
    "            current = nxt\n",
    "        return prev\n",
    "    \n",
    "    def __repr__(self):\n",
    "        nodes = []\n",
    "        current = self.head\n",
    "        while current.next != None:\n",
    "            current = current.next\n",
    "            nodes.append(\"[%s]\" % current.data)\n",
    "        return '->'.join(nodes)\n",
    "        "
   ]
  },
  {
   "cell_type": "code",
   "execution_count": 28,
   "id": "fb3cbc79-a708-45b7-97fa-4c864a6fda44",
   "metadata": {},
   "outputs": [],
   "source": [
    "l = LinkedList()\n",
    "l.append(1)\n",
    "l.append(2)\n",
    "l.append(3)\n",
    "l.append(4)\n",
    "l.append(5)"
   ]
  },
  {
   "cell_type": "code",
   "execution_count": 29,
   "id": "377a5c45-e4ee-45d1-b5f2-32a30c70647e",
   "metadata": {},
   "outputs": [
    {
     "data": {
      "text/plain": [
       "[1]->[2]->[3]->[4]->[5]"
      ]
     },
     "execution_count": 29,
     "metadata": {},
     "output_type": "execute_result"
    }
   ],
   "source": [
    "l"
   ]
  },
  {
   "cell_type": "code",
   "execution_count": 30,
   "id": "22a8b88b-d596-495b-8660-730165556ced",
   "metadata": {},
   "outputs": [
    {
     "data": {
      "text/plain": [
       "5"
      ]
     },
     "execution_count": 30,
     "metadata": {},
     "output_type": "execute_result"
    }
   ],
   "source": [
    "l.length()"
   ]
  },
  {
   "cell_type": "code",
   "execution_count": 31,
   "id": "fc981992-360e-4799-a5f9-da0f9b4c669d",
   "metadata": {},
   "outputs": [
    {
     "data": {
      "text/plain": [
       "3"
      ]
     },
     "execution_count": 31,
     "metadata": {},
     "output_type": "execute_result"
    }
   ],
   "source": [
    "l.get(2)"
   ]
  },
  {
   "cell_type": "code",
   "execution_count": null,
   "id": "40561ae1-2af3-4a99-b2c8-5d7927264edf",
   "metadata": {},
   "outputs": [],
   "source": []
  },
  {
   "cell_type": "code",
   "execution_count": 32,
   "id": "2934503e-0ed4-44d0-b427-51ccd1220a28",
   "metadata": {},
   "outputs": [
    {
     "data": {
      "text/plain": [
       "10"
      ]
     },
     "execution_count": 32,
     "metadata": {},
     "output_type": "execute_result"
    }
   ],
   "source": [
    "l.summ()\n"
   ]
  },
  {
   "cell_type": "code",
   "execution_count": 33,
   "id": "21162ee6-757c-4b71-8a89-edcc90be8839",
   "metadata": {},
   "outputs": [
    {
     "data": {
      "text/plain": [
       "<Node data: 5>"
      ]
     },
     "execution_count": 33,
     "metadata": {},
     "output_type": "execute_result"
    }
   ],
   "source": [
    "l.reverse_list()"
   ]
  },
  {
   "cell_type": "code",
   "execution_count": null,
   "id": "3aa2cac2-d357-409a-a469-efb8cfbc4ee2",
   "metadata": {},
   "outputs": [],
   "source": [
    "n = l.re"
   ]
  }
 ],
 "metadata": {
  "kernelspec": {
   "display_name": "Python 3 (ipykernel)",
   "language": "python",
   "name": "python3"
  },
  "language_info": {
   "codemirror_mode": {
    "name": "ipython",
    "version": 3
   },
   "file_extension": ".py",
   "mimetype": "text/x-python",
   "name": "python",
   "nbconvert_exporter": "python",
   "pygments_lexer": "ipython3",
   "version": "3.10.8"
  }
 },
 "nbformat": 4,
 "nbformat_minor": 5
}
